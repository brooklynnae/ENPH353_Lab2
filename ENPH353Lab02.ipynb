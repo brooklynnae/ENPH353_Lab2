{
  "nbformat": 4,
  "nbformat_minor": 0,
  "metadata": {
    "colab": {
      "provenance": [],
      "gpuType": "T4",
      "toc_visible": true,
      "authorship_tag": "ABX9TyMuWKrFNdy99iZivpKTlvMH",
      "include_colab_link": true
    },
    "kernelspec": {
      "name": "python3",
      "display_name": "Python 3"
    },
    "language_info": {
      "name": "python"
    },
    "accelerator": "GPU"
  },
  "cells": [
    {
      "cell_type": "markdown",
      "metadata": {
        "id": "view-in-github",
        "colab_type": "text"
      },
      "source": [
        "<a href=\"https://colab.research.google.com/github/brooklynnae/ENPH353_Lab2/blob/main/ENPH353Lab02.ipynb\" target=\"_parent\"><img src=\"https://colab.research.google.com/assets/colab-badge.svg\" alt=\"Open In Colab\"/></a>"
      ]
    },
    {
      "cell_type": "code",
      "execution_count": null,
      "metadata": {
        "colab": {
          "base_uri": "https://localhost:8080/"
        },
        "id": "zIixjui2jyMl",
        "outputId": "d0a24d3b-7728-4073-87bc-0ae0711d4ca2"
      },
      "outputs": [
        {
          "output_type": "stream",
          "name": "stdout",
          "text": [
            "Mounted at /content/drive\n"
          ]
        }
      ],
      "source": [
        "import cv2\n",
        "import numpy as np\n",
        "import matplotlib.pyplot as plt\n",
        "import matplotlib.animation as animation\n",
        "from google.colab import drive\n",
        "from google.colab import files\n",
        "drive.mount('/content/drive')\n"
      ]
    },
    {
      "cell_type": "code",
      "source": [
        "from google.colab.patches import cv2_imshow\n",
        "video = cv2.VideoCapture(\"/content/drive/MyDrive/raw_video_feed.mp4\")\n",
        "\n",
        "\n",
        "#dimensions of video and (buff) how far down the frame to search for line\n",
        "w = int(video.get(3))\n",
        "h = int(video.get(4))\n",
        "buff = int(4*h/5)\n",
        "res = (w, h)\n",
        "\n",
        "#create output video\n",
        "fourcc = cv2.VideoWriter_fourcc(*'mp4v') #codec\n",
        "output_file = 'labeled_video_feed.mp4'\n",
        "out = cv2.VideoWriter(output_file, fourcc, 15.0, res)\n",
        "\n",
        "#loop through each frame\n",
        "while True:\n",
        "  ret, img = video.read()\n",
        "\n",
        "  #break at the end\n",
        "  if not ret:\n",
        "    break\n",
        "\n",
        "  blur = cv2.GaussianBlur(img, (5, 5), 0) #blur for background smoothing\n",
        "  gray = cv2.cvtColor(blur, cv2.COLOR_BGR2GRAY) #gray for binary mask easier\n",
        "  ret, mask = cv2.threshold(gray, 70, 255, cv2.THRESH_BINARY_INV) #white track, black background\n",
        "  crop = mask[buff:h, 0:w] #only search below buff\n",
        "  #cv2_imshow(mask)\n",
        "\n",
        "  #create blob detection by colour\n",
        "  params = cv2.SimpleBlobDetector_Params()\n",
        "\n",
        "  params.filterByColor = True\n",
        "  params.blobColor = 255\n",
        "  params.filterByArea = False\n",
        "  params.filterByCircularity = False\n",
        "  params.filterByConvexity = False\n",
        "  params.filterByInertia = False\n",
        "\n",
        "  #search with detector and report center of track\n",
        "  detector = cv2.SimpleBlobDetector_create(params)\n",
        "  keypoints = detector.detect(crop)\n",
        "  if keypoints:\n",
        "    x = int(keypoints[0].pt[0])\n",
        "    y = int(keypoints[0].pt[1]) + buff\n",
        "\n",
        "  #draw circle on orginial frame and write to output file\n",
        "  cv2.circle(img, (x,y), 15, (0,0,255), -1)\n",
        "\n",
        "  out.write(img)\n",
        "\n",
        "video.release()\n",
        "out.release()\n",
        "cv2.destroyAllWindows()\n",
        "#files.download(output_file)"
      ],
      "metadata": {
        "id": "y_4vbgb4j3b3"
      },
      "execution_count": null,
      "outputs": []
    },
    {
      "cell_type": "code",
      "source": [],
      "metadata": {
        "id": "W3hUkD0wt9Mr"
      },
      "execution_count": null,
      "outputs": []
    }
  ]
}